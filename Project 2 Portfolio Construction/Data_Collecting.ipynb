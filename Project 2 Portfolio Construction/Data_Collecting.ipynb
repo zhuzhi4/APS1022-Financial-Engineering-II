{
 "cells": [
  {
   "cell_type": "code",
   "execution_count": 2,
   "metadata": {},
   "outputs": [
    {
     "name": "stdout",
     "output_type": "stream",
     "text": [
      "Collecting pandas-datareader\n",
      "  Using cached pandas_datareader-0.9.0-py3-none-any.whl (107 kB)\n",
      "Requirement already satisfied: pandas>=0.23 in e:\\application\\anaconda\\envs\\mie1622\\lib\\site-packages (from pandas-datareader) (1.1.3)\n",
      "Requirement already satisfied: requests>=2.19.0 in e:\\application\\anaconda\\envs\\mie1622\\lib\\site-packages\\requests-2.22.0-py3.8.egg (from pandas-datareader) (2.22.0)\n",
      "Requirement already satisfied: pytz>=2017.2 in e:\\application\\anaconda\\envs\\mie1622\\lib\\site-packages (from pandas>=0.23->pandas-datareader) (2020.1)\n",
      "Requirement already satisfied: python-dateutil>=2.7.3 in e:\\application\\anaconda\\envs\\mie1622\\lib\\site-packages (from pandas>=0.23->pandas-datareader) (2.8.1)\n",
      "Requirement already satisfied: numpy>=1.15.4 in e:\\application\\anaconda\\envs\\mie1622\\lib\\site-packages (from pandas>=0.23->pandas-datareader) (1.19.2)\n",
      "Requirement already satisfied: six>=1.5 in e:\\application\\anaconda\\envs\\mie1622\\lib\\site-packages (from python-dateutil>=2.7.3->pandas>=0.23->pandas-datareader) (1.15.0)\n",
      "Requirement already satisfied: chardet<3.1.0,>=3.0.2 in e:\\application\\anaconda\\envs\\mie1622\\lib\\site-packages\\chardet-3.0.4-py3.8.egg (from requests>=2.19.0->pandas-datareader) (3.0.4)\n",
      "Requirement already satisfied: idna<2.9,>=2.5 in e:\\application\\anaconda\\envs\\mie1622\\lib\\site-packages\\idna-2.8-py3.8.egg (from requests>=2.19.0->pandas-datareader) (2.8)\n",
      "Requirement already satisfied: urllib3!=1.25.0,!=1.25.1,<1.26,>=1.21.1 in e:\\application\\anaconda\\envs\\mie1622\\lib\\site-packages\\urllib3-1.25.11-py3.8.egg (from requests>=2.19.0->pandas-datareader) (1.25.11)\n",
      "Requirement already satisfied: certifi>=2017.4.17 in e:\\application\\anaconda\\envs\\mie1622\\lib\\site-packages (from requests>=2.19.0->pandas-datareader) (2020.6.20)\n",
      "Collecting lxml\n",
      "  Downloading lxml-4.6.3-cp38-cp38-win_amd64.whl (3.5 MB)\n",
      "Installing collected packages: lxml, pandas-datareader\n",
      "Successfully installed lxml-4.6.3 pandas-datareader-0.9.0\n"
     ]
    }
   ],
   "source": [
    "!pip install pandas-datareader"
   ]
  },
  {
   "cell_type": "code",
   "execution_count": 3,
   "metadata": {},
   "outputs": [],
   "source": [
    "import pandas as pd \n",
    "import numpy as np\n",
    "import pandas_datareader.data as web\n",
    "from pandas.core.resample import TimeGrouper"
   ]
  },
  {
   "cell_type": "code",
   "execution_count": 4,
   "metadata": {},
   "outputs": [],
   "source": [
    "stock_name = ['F', 'CAT', 'DIS', 'MCD', 'KO', 'PEP','WMT', 'C','WFC', 'JPM', 'AAPL', 'IBM', 'PFE', 'JNJ', 'XOM', 'MRO', 'ED', 'T', 'VZ', 'NEM']\n",
    "old = web.get_data_yahoo(stock_name[0], '30/12/2004', '30/11/2008',interval = 'd')\n",
    "old = old[['Adj Close']]\n",
    "old.rename({'Adj Close': stock_name[0]}, axis=1, inplace=True)\n",
    "for i in range(1,len(stock_name)):\n",
    "    new = web.get_data_yahoo(stock_name[i], '30/12/2004', '30/11/2008',interval = 'd')\n",
    "    new = new[['Adj Close']]\n",
    "    old = pd.concat([old, new], axis=1)\n",
    "    old.rename({'Adj Close': stock_name[i]}, axis=1, inplace=True)"
   ]
  },
  {
   "cell_type": "code",
   "execution_count": 10,
   "metadata": {},
   "outputs": [],
   "source": [
    "daily = old\n",
    "daily.groupby(daily.index.strftime('%Y-%m')).tail(1)\n",
    "monthly = daily.groupby([daily.index.year, daily.index.month]).tail(1)\n",
    "monthly = monthly.reset_index()\n",
    "monthly.rename(columns={\"Date\": \"EOMONTH\"})\n",
    "### export csv\n",
    "# monthly.to_csv (r'C:\\Users\\VINCENT\\Desktop\\monthly_adjusted_prices.csv', index = False, header=True)"
   ]
  },
  {
   "cell_type": "code",
   "execution_count": null,
   "metadata": {},
   "outputs": [],
   "source": []
  }
 ],
 "metadata": {
  "kernelspec": {
   "display_name": "Python 3",
   "language": "python",
   "name": "python3"
  },
  "language_info": {
   "codemirror_mode": {
    "name": "ipython",
    "version": 3
   },
   "file_extension": ".py",
   "mimetype": "text/x-python",
   "name": "python",
   "nbconvert_exporter": "python",
   "pygments_lexer": "ipython3",
   "version": "3.8.5"
  }
 },
 "nbformat": 4,
 "nbformat_minor": 4
}
